{
 "metadata": {
  "language_info": {
   "codemirror_mode": {
    "name": "ipython",
    "version": 3
   },
   "file_extension": ".py",
   "mimetype": "text/x-python",
   "name": "python",
   "nbconvert_exporter": "python",
   "pygments_lexer": "ipython3",
   "version": "3.8.2-final"
  },
  "orig_nbformat": 2,
  "kernelspec": {
   "name": "python38264bit5f562822230c4a2ba253563191a5dac7",
   "display_name": "Python 3.8.2 64-bit"
  }
 },
 "nbformat": 4,
 "nbformat_minor": 2,
 "cells": [
  {
   "cell_type": "code",
   "execution_count": 1,
   "metadata": {},
   "outputs": [],
   "source": [
    "# nltk.download('averaged_perceptron_tagger')\n",
    "# nltk.download('punkt')"
   ]
  },
  {
   "cell_type": "code",
   "execution_count": 1,
   "metadata": {},
   "outputs": [],
   "source": [
    "## load dependencie# mathmpy as np  #numeric    \n",
    "import ast  # dict literal evaluation \n",
    "import re   # regular expression \n",
    "import matplotlib.pyplot as plt # data visualization\n",
    "import pytesseract as pt        # Optical Character Recognition \n",
    "from pytesseract import Output  # Output format\n",
    "import spacy    # name entity regognition toolkit\n",
    "from spacy import displacy  # \n",
    "import en_core_web_sm   # language core \n",
    "nlp = en_core_web_sm.load()"
   ]
  },
  {
   "cell_type": "code",
   "execution_count": 2,
   "metadata": {},
   "outputs": [],
   "source": [
    "## Read txt file as dict more data available (i.e., position, size and level info)\n",
    "def read_dict(txt_file_path):\n",
    "    \n",
    "    # open file \n",
    "    txt_file = open(txt_file_path,'r')\n",
    "\n",
    "    # read data in txt file\n",
    "    txt_raw = txt_file.read()\n",
    "\n",
    "    # read the content as dictionary \n",
    "    txt_as_dict  = ast.literal_eval(txt_raw)\n",
    "    \n",
    "    # close the file\n",
    "    txt_file.close()\n",
    "    \n",
    "    return txt_as_dict"
   ]
  },
  {
   "cell_type": "code",
   "execution_count": 5,
   "metadata": {},
   "outputs": [],
   "source": [
    "## Read info\n",
    "\n",
    "#  Read text file \n",
    "class_1_yes_a = 'data/txt/A-MMED 2017 Pioneer loss runs PIO-YES0.txt'\n",
    "\n",
    "# Read image corresponding to txt file\n",
    "class_1_yes_a_image = 'data/image/A-MMED 2017 Pioneer loss runs PIO-YES0.jpg'\n",
    "\n",
    "# Read as dict format\n",
    "txt_dict = read_dict(class_1_yes_a)"
   ]
  },
  {
   "cell_type": "code",
   "execution_count": 9,
   "metadata": {
    "tags": []
   },
   "outputs": [],
   "source": [
    "# load rules\n",
    "from  configobj import configobj"
   ]
  },
  {
   "cell_type": "code",
   "execution_count": 22,
   "metadata": {
    "tags": []
   },
   "outputs": [
    {
     "output_type": "stream",
     "name": "stdout",
     "text": "Loss PERSON\n'A-MMED' WORK_OF_ART\nAmbulance' WORK_OF_ART\n'A-Med' WORK_OF_ART\nCarrier PERSON\nAllied ORG\nHealthcare ORG\nAHC-0000424-01' DATE\nUSD ORG\nUSD ORG\nLoss PERSON\n27-Apr-17 CARDINAL\n3,583.50 MONEY\n0.00 MONEY\nBennett PERSON\nLouisiana' ORG\n0.00 MONEY\n0.00 MONEY\nClaimant PERSON\n1-Aug-16 CARDINAL\nControl' ORG\nClaim PERSON\nClaimant PERSON\nBennett PERSON\nRichard PERSON\nWilliams PERSON\n3,583.50 MONEY\n0.00 MONEY\nPIONEER ORG\n"
    }
   ],
   "source": [
    "## Text NER analyzer \n",
    "doc = nlp(str(txt_dict['text']))\n",
    "for ent in doc.ents:\n",
    "    print(ent.text, ent.label_)"
   ]
  }
 ]
}