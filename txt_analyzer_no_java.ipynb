{
 "metadata": {
  "language_info": {
   "codemirror_mode": {
    "name": "ipython",
    "version": 3
   },
   "file_extension": ".py",
   "mimetype": "text/x-python",
   "name": "python",
   "nbconvert_exporter": "python",
   "pygments_lexer": "ipython3",
   "version": "3.8.2-final"
  },
  "orig_nbformat": 2,
  "kernelspec": {
   "name": "python38264bit5f562822230c4a2ba253563191a5dac7",
   "display_name": "Python 3.8.2 64-bit"
  }
 },
 "nbformat": 4,
 "nbformat_minor": 2,
 "cells": [
  {
   "cell_type": "code",
   "execution_count": 1,
   "metadata": {},
   "outputs": [],
   "source": [
    "# nltk.download('averaged_perceptron_tagger')\n",
    "# nltk.download('punkt')"
   ]
  },
  {
   "cell_type": "code",
   "execution_count": 1,
   "metadata": {},
   "outputs": [],
   "source": [
    "import nltk\n",
    "from nltk.tokenize import word_tokenize\n",
    "from nltk.tag import pos_tag"
   ]
  },
  {
   "cell_type": "code",
   "execution_count": 2,
   "metadata": {},
   "outputs": [],
   "source": [
    "ex = 'European authorities fined Google a record $5.1 billion on Wednesday for abusing its power in the mobile phone market and ordered the company to alter its practices'"
   ]
  },
  {
   "cell_type": "code",
   "execution_count": 3,
   "metadata": {},
   "outputs": [],
   "source": [
    "def preprocess(sent):\n",
    "    sent = nltk.word_tokenize(sent)\n",
    "    sent = nltk.pos_tag(sent)\n",
    "    return sent"
   ]
  },
  {
   "cell_type": "code",
   "execution_count": 7,
   "metadata": {
    "tags": []
   },
   "outputs": [
    {
     "output_type": "execute_result",
     "data": {
      "text/plain": "[('European', 'JJ'),\n ('authorities', 'NNS'),\n ('fined', 'VBD'),\n ('Google', 'NNP'),\n ('a', 'DT'),\n ('record', 'NN'),\n ('$', '$'),\n ('5.1', 'CD'),\n ('billion', 'CD'),\n ('on', 'IN'),\n ('Wednesday', 'NNP'),\n ('for', 'IN'),\n ('abusing', 'VBG'),\n ('its', 'PRP$'),\n ('power', 'NN'),\n ('in', 'IN'),\n ('the', 'DT'),\n ('mobile', 'JJ'),\n ('phone', 'NN'),\n ('market', 'NN'),\n ('and', 'CC'),\n ('ordered', 'VBD'),\n ('the', 'DT'),\n ('company', 'NN'),\n ('to', 'TO'),\n ('alter', 'VB'),\n ('its', 'PRP$'),\n ('practices', 'NNS')]"
     },
     "metadata": {},
     "execution_count": 7
    }
   ],
   "source": [
    "sent = preprocess(ex)\n",
    "sent\n"
   ]
  },
  {
   "cell_type": "code",
   "execution_count": 8,
   "metadata": {},
   "outputs": [],
   "source": [
    "pattern = 'NP: {<DT>?<JJ>*<NN>}'"
   ]
  },
  {
   "cell_type": "code",
   "execution_count": 9,
   "metadata": {
    "tags": []
   },
   "outputs": [
    {
     "output_type": "stream",
     "name": "stdout",
     "text": "(S\n  European/JJ\n  authorities/NNS\n  fined/VBD\n  Google/NNP\n  (NP a/DT record/NN)\n  $/$\n  5.1/CD\n  billion/CD\n  on/IN\n  Wednesday/NNP\n  for/IN\n  abusing/VBG\n  its/PRP$\n  (NP power/NN)\n  in/IN\n  (NP the/DT mobile/JJ phone/NN)\n  (NP market/NN)\n  and/CC\n  ordered/VBD\n  (NP the/DT company/NN)\n  to/TO\n  alter/VB\n  its/PRP$\n  practices/NNS)\n"
    }
   ],
   "source": [
    "cp = nltk.RegexpParser(pattern)\n",
    "cs = cp.parse(sent)\n",
    "print(cs)"
   ]
  }
 ]
}