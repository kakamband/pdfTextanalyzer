{
 "metadata": {
  "language_info": {
   "codemirror_mode": {
    "name": "ipython",
    "version": 3
   },
   "file_extension": ".py",
   "mimetype": "text/x-python",
   "name": "python",
   "nbconvert_exporter": "python",
   "pygments_lexer": "ipython3",
   "version": "3.8.2-final"
  },
  "orig_nbformat": 2,
  "kernelspec": {
   "name": "python38264bit5f562822230c4a2ba253563191a5dac7",
   "display_name": "Python 3.8.2 64-bit"
  }
 },
 "nbformat": 4,
 "nbformat_minor": 2,
 "cells": [
  {
   "cell_type": "code",
   "execution_count": 1,
   "metadata": {},
   "outputs": [],
   "source": [
    "# nltk.download('averaged_perceptron_tagger')\n",
    "# nltk.download('punkt')"
   ]
  },
  {
   "cell_type": "code",
   "execution_count": 5,
   "metadata": {},
   "outputs": [],
   "source": [
    "## load dependencie# mathmpy as np  #numeric    \n",
    "import ast  # dict literal evaluation \n",
    "import re   # regular expression \n",
    "import matplotlib.pyplot as plt # data visualization\n",
    "import pytesseract as pt        # Optical Character Recognition \n",
    "from pytesseract import Output  # Output format\n",
    "import spacy    # name entity regognition toolkit\n",
    "from spacy import displacy  # \n",
    "import en_core_web_sm   # language core \n",
    "nlp = en_core_web_sm.load()"
   ]
  },
  {
   "cell_type": "code",
   "execution_count": 21,
   "metadata": {},
   "outputs": [],
   "source": [
    "## Read txt file as dict more data available (i.e., position, size and level info)\n",
    "def read_dict(txt_file_path):\n",
    "    \n",
    "    # open file \n",
    "    txt_file = open(txt_file_path,'r')\n",
    "\n",
    "    # read data in txt file\n",
    "    txt_raw = txt_file.read()\n",
    "\n",
    "    # read the content as dictionary \n",
    "    txt_as_dict  = ast.literal_eval(txt_raw)\n",
    "    \n",
    "    # close the file\n",
    "    txt_file.close()\n",
    "    \n",
    "    return txt_as_dict"
   ]
  },
  {
   "cell_type": "code",
   "execution_count": null,
   "metadata": {},
   "outputs": [],
   "source": [
    "# get ex\n",
    "class_1_yes_a = \n",
    "class_1_yes_b = \n",
    "txt_dict = read_dict()"
   ]
  },
  {
   "cell_type": "code",
   "execution_count": 33,
   "metadata": {
    "tags": []
   },
   "outputs": [
    {
     "output_type": "error",
     "ename": "AttributeError",
     "evalue": "'list' object has no attribute 'upper'",
     "traceback": [
      "\u001b[0;31m---------------------------------------------------------------------------\u001b[0m",
      "\u001b[0;31mAttributeError\u001b[0m                            Traceback (most recent call last)",
      "\u001b[0;32m<ipython-input-33-0e1717e267fe>\u001b[0m in \u001b[0;36m<module>\u001b[0;34m\u001b[0m\n\u001b[1;32m      1\u001b[0m \u001b[0;31m## Try brute force matching\u001b[0m\u001b[0;34m\u001b[0m\u001b[0;34m\u001b[0m\u001b[0;34m\u001b[0m\u001b[0m\n\u001b[0;32m----> 2\u001b[0;31m \u001b[0;32mif\u001b[0m \u001b[0;34m'CARRIER'\u001b[0m \u001b[0;32min\u001b[0m \u001b[0mtxt_dict\u001b[0m\u001b[0;34m[\u001b[0m\u001b[0;34m'text'\u001b[0m\u001b[0;34m]\u001b[0m\u001b[0;34m.\u001b[0m\u001b[0mupper\u001b[0m\u001b[0;34m(\u001b[0m\u001b[0;34m)\u001b[0m\u001b[0;34m:\u001b[0m\u001b[0;34m\u001b[0m\u001b[0;34m\u001b[0m\u001b[0m\n\u001b[0m\u001b[1;32m      3\u001b[0m     \u001b[0mprint\u001b[0m\u001b[0;34m(\u001b[0m\u001b[0;34m'There is INSURED'\u001b[0m\u001b[0;34m)\u001b[0m\u001b[0;34m\u001b[0m\u001b[0;34m\u001b[0m\u001b[0m\n",
      "\u001b[0;31mAttributeError\u001b[0m: 'list' object has no attribute 'upper'"
     ]
    }
   ],
   "source": [
    "## Try brute force matching\n",
    "if 'CARRIER' in str(txt_dict['text']).upper:\n",
    "    print('There is INSURED')"
   ]
  },
  {
   "cell_type": "code",
   "execution_count": 22,
   "metadata": {
    "tags": []
   },
   "outputs": [
    {
     "output_type": "stream",
     "name": "stdout",
     "text": "Loss PERSON\n'A-MMED' WORK_OF_ART\nAmbulance' WORK_OF_ART\n'A-Med' WORK_OF_ART\nCarrier PERSON\nAllied ORG\nHealthcare ORG\nAHC-0000424-01' DATE\nUSD ORG\nUSD ORG\nLoss PERSON\n27-Apr-17 CARDINAL\n3,583.50 MONEY\n0.00 MONEY\nBennett PERSON\nLouisiana' ORG\n0.00 MONEY\n0.00 MONEY\nClaimant PERSON\n1-Aug-16 CARDINAL\nControl' ORG\nClaim PERSON\nClaimant PERSON\nBennett PERSON\nRichard PERSON\nWilliams PERSON\n3,583.50 MONEY\n0.00 MONEY\nPIONEER ORG\n"
    }
   ],
   "source": [
    "## Text NER analyzer \n",
    "doc = nlp(str(txt_dict['text']))\n",
    "for ent in doc.ents:\n",
    "    print(ent.text, ent.label_)"
   ]
  }
 ]
}