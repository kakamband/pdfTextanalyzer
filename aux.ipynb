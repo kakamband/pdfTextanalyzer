{
 "metadata": {
  "language_info": {
   "codemirror_mode": {
    "name": "ipython",
    "version": 3
   },
   "file_extension": ".py",
   "mimetype": "text/x-python",
   "name": "python",
   "nbconvert_exporter": "python",
   "pygments_lexer": "ipython3",
   "version": "3.8.2-final"
  },
  "orig_nbformat": 2,
  "kernelspec": {
   "name": ".pdf_analizer_kernel",
   "display_name": ".pdf_analizer_kernel"
  }
 },
 "nbformat": 4,
 "nbformat_minor": 2,
 "cells": [
  {
   "cell_type": "code",
   "execution_count": 79,
   "metadata": {},
   "outputs": [],
   "source": [
    "import spacy\n",
    "import os \n",
    "from lossrun import read_dict\n",
    "import string as String\n",
    "import re\n",
    "import spacy\n",
    "from nltk.tokenize import word_tokenize\n"
   ]
  },
  {
   "cell_type": "code",
   "execution_count": 90,
   "metadata": {},
   "outputs": [],
   "source": [
    "## CLEAN DATA txt \n",
    "\n",
    "# Read each txt file in data/txt/\n",
    "PATH  = './data/txt/'\n",
    "_files = os.listdir(PATH)\n",
    "\n",
    "# load nlp core for stop words filtering \n",
    "nlp = spacy.load('en_core_web_sm')\n",
    "\n",
    "# load the stop words in English lang \n",
    "stopwords = nlp.Defaults.stop_words\n",
    "\n",
    "# printable chars list \n",
    "printable = set(String.printable)\n",
    "\n",
    "# read as dict\n",
    "for _file in _files:\n",
    "    _dict = read_dict(PATH + _file)\n",
    "\n",
    "    #remove multiple blank spaces\n",
    "    string = ' '.join(_dict['text'])\n",
    "    string = re.sub('\\s+',' ',string)\n",
    "    string = string[1:]\n",
    "    \n",
    "    # remove non printalbes elemts\n",
    "    string = ''.join(filter(lambda x: x in printable, string))\n",
    "\n",
    "\n",
    "    ## IMPORTANT, coment this lines if stopwords will be included in NER modeling\n",
    "    # tokens \n",
    "    tokens = word_tokenize(string)\n",
    "    token_filter= [word for word in tokens if not word in stopwords]\n",
    "    string = ' '.join(token_filter)\n",
    "\n",
    "    text_file = open('/home/zned897/Proyects/pdf_text_extractor/NER_label_tool/data_cleaned_non_sw/'+ _file, \"w\")\n",
    "    n = text_file.write(string)\n",
    "    text_file.close()\n",
    "\n",
    "\n"
   ]
  }
 ]
}