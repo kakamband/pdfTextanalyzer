{
 "metadata": {
  "language_info": {
   "codemirror_mode": {
    "name": "ipython",
    "version": 3
   },
   "file_extension": ".py",
   "mimetype": "text/x-python",
   "name": "python",
   "nbconvert_exporter": "python",
   "pygments_lexer": "ipython3",
   "version": "3.8.2-final"
  },
  "orig_nbformat": 2,
  "kernelspec": {
   "name": ".pdf_analizer_kernel",
   "display_name": ".pdf_analizer_kernel"
  }
 },
 "nbformat": 4,
 "nbformat_minor": 2,
 "cells": [
  {
   "cell_type": "code",
   "execution_count": 4,
   "metadata": {},
   "outputs": [],
   "source": [
    "# load dependencies\n",
    "import os \n",
    "import re\n",
    "import ast\n",
    "import cv2 \n",
    "import matplotlib.pyplot as plt"
   ]
  },
  {
   "cell_type": "code",
   "execution_count": 5,
   "metadata": {},
   "outputs": [],
   "source": [
    "## read the txt file in dict format\n",
    "def read_dict(txt_file_path):\n",
    "    \n",
    "    # open file \n",
    "    txt_file = open(txt_file_path,'r')\n",
    "\n",
    "    # read data in txt file\n",
    "    txt_raw = txt_file.read()\n",
    "\n",
    "    # read the content as dictionary \n",
    "    txt_as_dict  = ast.literal_eval(txt_raw)\n",
    "    \n",
    "    # close the file\n",
    "    txt_file.close()\n",
    "    \n",
    "    return txt_as_dict"
   ]
  },
  {
   "cell_type": "code",
   "execution_count": null,
   "metadata": {},
   "outputs": [],
   "source": [
    "# image_path \n",
    "txt_file_name ='12 - 13 loss runs - Focus Nursing CHG770310301 11-1-12-13_YES0.txt'\n",
    "txt_file_path = os.path.join('.','data','txt','')\n",
    "txt_dict = read_dict('')"
   ]
  }
 ]
}