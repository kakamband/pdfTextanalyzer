{
 "metadata": {
  "language_info": {
   "codemirror_mode": {
    "name": "ipython",
    "version": 3
   },
   "file_extension": ".py",
   "mimetype": "text/x-python",
   "name": "python",
   "nbconvert_exporter": "python",
   "pygments_lexer": "ipython3",
   "version": "3.8.2-final"
  },
  "orig_nbformat": 2,
  "kernelspec": {
   "name": ".pdf_analizer_kernel",
   "display_name": ".pdf_analizer_kernel"
  }
 },
 "nbformat": 4,
 "nbformat_minor": 2,
 "cells": [
  {
   "cell_type": "code",
   "execution_count": 51,
   "metadata": {},
   "outputs": [],
   "source": [
    "# load dependencies\n",
    "import os\n",
    "import matplotlib.pyplot as plt"
   ]
  },
  {
   "cell_type": "code",
   "execution_count": 53,
   "metadata": {
    "tags": []
   },
   "outputs": [
    {
     "output_type": "stream",
     "name": "stdout",
     "text": "Claims\nClaims\nNo claims\nNo claims\nNo claims\nNo claims\nClaims\nClaims\nNo claims\nClaims\nClaims\nClaims\nClaims\nClaims\nClaims\nClaims\nNo claims\nClaims\nClaims\nClaims\nClaims\nClaims\nClaims\nClaims\nClaims\nClaims\nClaims\nClaims\nClaims\nClaims\nClaims\nClaims\nClaims\nNo claims\nClaims\nClaims\nClaims\nClaims\nNo claims\nClaims\nNo claims\nClaims\nClaims\nNo claims\nClaims\nClaims\n"
    }
   ],
   "source": [
    "# read each txt file -> search  and classifie non claim reports\n",
    "\n",
    "# get the files names \n",
    "# text path \n",
    "text_path = os.path.join('.','data','txt','')\n",
    "\n",
    "#\n",
    "text_files = os.listdir(text_path)\n",
    "\n",
    "# claim reports\n",
    "no_claim_reports, claim_reports = [], []\n",
    "\n",
    "for i in range(len(text_files)):\n",
    "\n",
    "    with open(text_path + text_files[i], 'r') as f:\n",
    "    \n",
    "        string = f.read()\n",
    "\n",
    "        if 'NO CLAIMS' in string.upper():\n",
    "            no_claim_reports.append(text_files[i])\n",
    "            print('No claims')\n",
    "        else:\n",
    "            claim_reports.append(text_files[i])\n",
    "            print('Claims')"
   ]
  },
  {
   "cell_type": "code",
   "execution_count": 54,
   "metadata": {
    "tags": []
   },
   "outputs": [
    {
     "output_type": "execute_result",
     "data": {
      "text/plain": "['12OaksManagementServicesInclossdetailreport(2) - UL AL Loss Runs29.txt',\n '12OaksManagementServicesInclossdetailreport(2) - UL AL Loss Runs11.txt',\n '12OaksManagementServicesInclossdetailreport(2) - UL AL Loss Runs12.txt',\n '12OaksManagementServicesInclossdetailreport(2) - UL AL Loss Runs22.txt',\n '12OaksManagementServicesInclossdetailreport(2) - UL AL Loss Runs32.txt',\n '12OaksManagementServicesInclossdetailreport(2) - UL AL Loss Runs16.txt',\n '12OaksManagementServicesInclossdetailreport(2) - UL AL Loss Runs7.txt',\n '12OaksManagementServicesInclossdetailreport(2) - UL AL Loss Runs9.txt',\n '12OaksManagementServicesInclossdetailreport(2) - UL AL Loss Runs14.txt',\n '12OaksManagementServicesInclossdetailreport(2) - UL AL Loss Runs1.txt',\n '12OaksManagementServicesInclossdetailreport(2) - UL AL Loss Runs31.txt',\n '12OaksManagementServicesInclossdetailreport(2) - UL AL Loss Runs2.txt',\n '12OaksManagementServicesInclossdetailreport(2) - UL AL Loss Runs4.txt',\n '12OaksManagementServicesInclossdetailreport(2) - UL AL Loss Runs0.txt',\n '12OaksManagementServicesInclossdetailreport(2) - UL AL Loss Runs8.txt',\n '12OaksManagementServicesInclossdetailreport(2) - UL AL Loss Runs19.txt',\n '12OaksManagementServicesInclossdetailreport(2) - UL AL Loss Runs23.txt',\n '12OaksManagementServicesInclossdetailreport(2) - UL AL Loss Runs18.txt',\n 'Email - Loss Runs_ Raymond A. Bernard, CRNA dba South Shore Anesthesia, LLC - 06-17-2020 05_37PM - Attachment_ Loss-Runs Raymond A. Bernard, CRNA dba South Shore Anesthesia, LLC 2017-2018.txt',\n '12OaksManagementServicesInclossdetailreport(2) - UL AL Loss Runs15.txt',\n '12OaksManagementServicesInclossdetailreport(2) - UL AL Loss Runs30.txt',\n '12OaksManagementServicesInclossdetailreport(2) - UL AL Loss Runs5.txt',\n '12OaksManagementServicesInclossdetailreport(2) - UL AL Loss Runs27.txt',\n '12OaksManagementServicesInclossdetailreport(2) - UL AL Loss Runs24.txt',\n '12OaksManagementServicesInclossdetailreport(2) - UL AL Loss Runs28.txt',\n '12OaksManagementServicesInclossdetailreport(2) - UL AL Loss Runs.txt',\n '12OaksManagementServicesInclossdetailreport(2) - UL AL Loss Runs13.txt',\n '12OaksManagementServicesInclossdetailreport(2) - UL AL Loss Runs21.txt',\n '12OaksManagementServicesInclossdetailreport(2) - UL AL Loss Runs3.txt',\n '12OaksManagementServicesInclossdetailreport(2) - UL AL Loss Runs20.txt',\n '12OaksManagementServicesInclossdetailreport(2) - UL AL Loss Runs10.txt',\n '12OaksManagementServicesInclossdetailreport(2) - UL AL Loss Runs26.txt',\n '12OaksManagementServicesInclossdetailreport(2) - UL AL Loss Runs25.txt',\n '12OaksManagementServicesInclossdetailreport(2) - UL AL Loss Runs6.txt',\n 'Email - Loss Runs_ Raymond A. Bernard, CRNA dba South Shore Anesthesia, LLC - 06-17-2020 05_37PM - Attachment_ Loss-Runs Raymond A. Bernard, CRNA dba South Shore Anesthesia, LLC 2017-20180.txt',\n '12OaksManagementServicesInclossdetailreport(2) - UL AL Loss Runs17.txt']"
     },
     "metadata": {},
     "execution_count": 54
    }
   ],
   "source": [
    "claim_reports\n"
   ]
  },
  {
   "cell_type": "code",
   "execution_count": 55,
   "metadata": {},
   "outputs": [
    {
     "output_type": "execute_result",
     "data": {
      "text/plain": "['Colony GLPL (16-18) Loss Runs as of 2-15-18.txt',\n 'Loss Runs - Ray Properties Kit Carson, Inc dba Kit Carson Nursing & Rehabilitation Center - 2019-05-08.txt',\n 'Colony GLPL (16-18) Loss Runs as of 2-15-180.txt',\n 'Email - Loss Runs_ Anointed Angels Caregivers Inc. - 06-08-2020 10_16AM - Attachment_ Loss-Runs Anointed Angels Caregivers Inc. 2015-20160.txt',\n 'Loss Runs - Rassouli Homecare LLC dba Laguna Niguel Care Home and Orange County Care Home - 2019-09-05.txt',\n '1-5-18 GH Loss Runs.txt',\n 'Loss Runs - Ray Properties Kit Carson, Inc dba Kit Carson Nursing & Rehabilitation Center - 2019-05-080.txt',\n 'Loss Runs - Rassouli Homecare LLC dba Laguna Niguel Care Home and Orange County Care Home - 2019-09-050.txt',\n '1-5-18 GH Loss Runs0.txt',\n 'Email - Loss Runs_ Anointed Angels Caregivers Inc. - 06-08-2020 10_16AM - Attachment_ Loss-Runs Anointed Angels Caregivers Inc. 2015-2016.txt']"
     },
     "metadata": {},
     "execution_count": 55
    }
   ],
   "source": [
    "no_claim_reports"
   ]
  }
 ]
}