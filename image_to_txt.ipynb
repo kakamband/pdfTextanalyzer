{
 "metadata": {
  "language_info": {
   "codemirror_mode": {
    "name": "ipython",
    "version": 3
   },
   "file_extension": ".py",
   "mimetype": "text/x-python",
   "name": "python",
   "nbconvert_exporter": "python",
   "pygments_lexer": "ipython3",
   "version": "3.8.2-final"
  },
  "orig_nbformat": 2,
  "kernelspec": {
   "name": ".pdf_analizer_kernel",
   "display_name": ".pdf_analizer_kernel"
  }
 },
 "nbformat": 4,
 "nbformat_minor": 2,
 "cells": [
  {
   "cell_type": "code",
   "execution_count": 1,
   "metadata": {},
   "outputs": [],
   "source": [
    "## Function to save text string or text dictionary format the OCR analysis\n",
    "\n",
    "def transform_to_text_an_entire_folder(images_folder = './data/images/', text_folder = './data/txt/', save_string = True):\n",
    "\n",
    "    # read image files\n",
    "    try:\n",
    "        list_files = os.listdir(images_folder)\n",
    "    except:\n",
    "        print(\"Error in path\")\n",
    "        return images_folder   \n",
    "\n",
    "    # for each image extract the text and save it in txt file (name is conserved)\n",
    "    for i in range (len(list_files)):\n",
    "        \n",
    "        # read only jpg files format\n",
    "        if list_files[i][-3:] == 'jpg':\n",
    "\n",
    "            # create txt file \n",
    "            txt_file  = open(text_folder  + list_files[i][:-3] + \"txt\", \"w\")\n",
    "            \n",
    "            # save string format or dictionary format\n",
    "            if save_string:\n",
    "            \n",
    "                # string format only text info\n",
    "                txt_file.write(str(pt.image_to_string(images_folder + list_files[i])))\n",
    "\n",
    "            else:\n",
    "\n",
    "                # dict format level, size, position etc info\n",
    "                txt_file.write(str(pt.image_to_data(images_folder + list_files[i], output_type =Output.DICT)))\n",
    "    return 0"
   ]
  },
  {
   "cell_type": "code",
   "execution_count": 2,
   "metadata": {
    "tags": []
   },
   "outputs": [
    {
     "output_type": "execute_result",
     "data": {
      "text/plain": "0"
     },
     "metadata": {},
     "execution_count": 2
    }
   ],
   "source": [
    "## Run this cell to transform all the images in folder\n",
    "\n",
    "# dependecies for this module\n",
    "import os \n",
    "import pytesseract as pt\n",
    "from pytesseract import Output\n",
    "\n",
    "#os.listdir('./data/images')\n",
    "\n",
    "transform_to_text_an_entire_folder(save_string = False)\n"
   ]
  }
 ]
}