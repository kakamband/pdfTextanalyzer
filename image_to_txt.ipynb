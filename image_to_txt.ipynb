{
 "metadata": {
  "language_info": {
   "codemirror_mode": {
    "name": "ipython",
    "version": 3
   },
   "file_extension": ".py",
   "mimetype": "text/x-python",
   "name": "python",
   "nbconvert_exporter": "python",
   "pygments_lexer": "ipython3",
   "version": "3.8.2-final"
  },
  "orig_nbformat": 2,
  "kernelspec": {
   "name": ".pdf_analizer_kernel",
   "display_name": ".pdf_analizer_kernel"
  }
 },
 "nbformat": 4,
 "nbformat_minor": 2,
 "cells": [
  {
   "cell_type": "code",
   "execution_count": 19,
   "metadata": {},
   "outputs": [],
   "source": [
    "def transform_to_text_an_entire_folder(images_folder = './data/images/', text_folder = './data/txt/', save_string = True):\n",
    "\n",
    "    try:\n",
    "        list_files = os.listdir(images_folder)\n",
    "    except:\n",
    "        print(\"Error in path\")\n",
    "        return images_folder   \n",
    "\n",
    "    for i in range (len(list_files)):\n",
    "        \n",
    "        if list_files[i][-3:] == 'jpg':\n",
    "\n",
    "            if save_string:\n",
    "\n",
    "                with open(text_folder  + list_files[i][:-3] + \".txt\", \"w\") as text_file:\n",
    "                    text_file.write(pt.image_to_string(images_folder + list_files[i]))\n",
    "\n",
    "    return 0"
   ]
  },
  {
   "cell_type": "code",
   "execution_count": 20,
   "metadata": {
    "tags": []
   },
   "outputs": [
    {
     "output_type": "execute_result",
     "data": {
      "text/plain": "0"
     },
     "metadata": {},
     "execution_count": 20
    }
   ],
   "source": [
    "import os \n",
    "import pytesseract as pt\n",
    "#os.listdir('./data/images')\n",
    "transform_to_text_an_entire_folder()\n"
   ]
  }
 ]
}