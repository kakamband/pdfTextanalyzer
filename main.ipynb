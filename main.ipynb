{
 "cells": [
  {
   "cell_type": "markdown",
   "metadata": {},
   "source": [
    "# Now Insurance Loss Runs #\n",
    "## automatic extraction of relevant information in loss reports from pdf files ##"
   ]
  },
  {
   "cell_type": "code",
   "execution_count": null,
   "metadata": {},
   "outputs": [],
   "source": [
    "## load depedencies \n",
    "import numpy as np # math library\n",
    "import cv2 # visual computational \n",
    "import matplotlib.pyplot as plt # vizualization\n",
    "import os # directory management\n",
    "from configobj import ConfigObj # load rules\n",
    "import lossrun"
   ]
  },
  {
   "cell_type": "code",
   "execution_count": null,
   "metadata": {},
   "outputs": [],
   "source": [
    "## Read raw txt info in pdf report\n",
    "\n",
    "PATH_txt = os.path.join('.','data','txt','')\n",
    "PATH_image = os.path.join('.','data','images','')\n",
    "\n",
    "# pdf raw file no ext \n",
    "pdf_file = 'AHC-0000343 loss runs PIO-YES0'\n",
    "#  Read text file \n",
    "txt_file = PATH_txt + pdf_file + '.txt'\n",
    "#image file\n",
    "image_file = PATH_image + pdf_file + '.jpg'\n",
    "\n",
    "# Read as dict format txt file\n",
    "txt_dict = lossrun.read_dict(txt_file)\n",
    "\n",
    "# load configuration file\n",
    "template_rules = ConfigObj('config_file.ino')\n",
    "\n"
   ]
  },
  {
   "cell_type": "markdown",
   "metadata": {},
   "source": [
    "## Sedgwick ##"
   ]
  },
  {
   "cell_type": "code",
   "execution_count": null,
   "metadata": {},
   "outputs": [],
   "source": [
    "pdf_file = '12 - 13 loss runs - Focus Nursing CHG770310301 11-1-12-13_YES0'\n",
    "#  Read text file \n",
    "txt_file = PATH_txt + pdf_file + '.txt'\n",
    "#image file\n",
    "image_file = PATH_image + pdf_file + '.jpg'\n",
    "\n",
    "# Read as dict format txt file\n",
    "txt_dict = lossrun.read_dict(txt_file)\n",
    "\n",
    "template_rules = ConfigObj('config_file.ino')\n",
    "\n",
    "j = lossrun.search_rules(txt_dict,template_rules)\n",
    "_image_c = cv2.imread(image_file)\n",
    "for i in range(len(j)):\n",
    "    cv2.circle(_image_c,(j[i][0],j[i][1]),10,(0,0,255),-1)\n",
    "plt.figure(figsize=(30,25))\n",
    "plt.imshow(_image_c)"
   ]
  },
  {
   "cell_type": "code",
   "execution_count": null,
   "metadata": {},
   "outputs": [],
   "source": [
    "pdf_file = 'BMS loss runs 11-12-Indian Harbor Sed-YES0'\n",
    "#  Read text file \n",
    "txt_file = PATH_txt + pdf_file + '.txt'\n",
    "#image file\n",
    "image_file = PATH_image + pdf_file + '.jpg'\n",
    "\n",
    "# Read as dict format txt file\n",
    "txt_dict = lossrun.read_dict(txt_file)\n",
    "\n",
    "template_rules = ConfigObj('config_file.ino')\n",
    "\n",
    "j = lossrun.search_rules(txt_dict,template_rules)\n",
    "_image_c = cv2.imread(image_file)\n",
    "for i in range(len(j)):\n",
    "    cv2.circle(_image_c,(j[i][0],j[i][1]),10,(0,0,255),-1)\n",
    "plt.figure(figsize=(30,25))\n",
    "plt.imshow(_image_c)"
   ]
  },
  {
   "cell_type": "code",
   "execution_count": null,
   "metadata": {},
   "outputs": [],
   "source": [
    "pdf_file = 'Yr 15-16 thru 16-17 Rockhill loss runs valued 10-30-2018 SED-YES1'\n",
    "#  Read text file \n",
    "txt_file = PATH_txt + pdf_file + '.txt'\n",
    "#image file\n",
    "image_file = PATH_image + pdf_file + '.jpg'\n",
    "\n",
    "# Read as dict format txt file\n",
    "txt_dict = lossrun.read_dict(txt_file)\n",
    "\n",
    "template_rules = ConfigObj('config_file.ino')\n",
    "\n",
    "j = lossrun.search_rules(txt_dict,template_rules)\n",
    "_image_c = cv2.imread(image_file)\n",
    "for i in range(len(j)):\n",
    "    cv2.circle(_image_c,(j[i][0],j[i][1]),10,(0,0,255),-1)\n",
    "plt.figure(figsize=(30,25))\n",
    "plt.imshow(_image_c)"
   ]
  },
  {
   "cell_type": "markdown",
   "metadata": {},
   "source": [
    "## Pioner ##"
   ]
  },
  {
   "cell_type": "code",
   "execution_count": null,
   "metadata": {},
   "outputs": [],
   "source": [
    "pdf_file = 'Acts Home Pioneer loss runs PIO-NO1'\n",
    "#  Read text file \n",
    "txt_file = PATH_txt + pdf_file + '.txt'\n",
    "#image file\n",
    "image_file = PATH_image + pdf_file + '.jpg'\n",
    "\n",
    "# Read as dict format txt file\n",
    "txt_dict = lossrun.read_dict(txt_file)\n",
    "\n",
    "template_rules = ConfigObj('config_file.ino')\n",
    "\n",
    "j = lossrun.search_rules(txt_dict,template_rules)\n",
    "_image_c = cv2.imread(image_file)\n",
    "for i in range(len(j)):\n",
    "    cv2.circle(_image_c,(j[i][0],j[i][1]),10,(0,0,255),-1)\n",
    "plt.figure(figsize=(30,25))\n",
    "plt.imshow(_image_c)"
   ]
  },
  {
   "cell_type": "code",
   "execution_count": null,
   "metadata": {},
   "outputs": [],
   "source": [
    "pdf_file = 'A-MMED 2017 Pioneer loss runs PIO-YES0'\n",
    "#  Read text file \n",
    "txt_file = PATH_txt + pdf_file + '.txt'\n",
    "#image file\n",
    "image_file = PATH_image + pdf_file + '.jpg'\n",
    "\n",
    "# Read as dict format txt file\n",
    "txt_dict = lossrun.read_dict(txt_file)\n",
    "\n",
    "template_rules = ConfigObj('config_file.ino')\n",
    "\n",
    "j = lossrun.search_rules(txt_dict,template_rules)\n",
    "_image_c = cv2.imread(image_file)\n",
    "for i in range(len(j)):\n",
    "    cv2.circle(_image_c,(j[i][0],j[i][1]),10,(0,0,255),-1)\n",
    "plt.figure(figsize=(30,25))\n",
    "plt.imshow(_image_c)"
   ]
  },
  {
   "cell_type": "code",
   "execution_count": null,
   "metadata": {},
   "outputs": [],
   "source": [
    "pdf_file = 'Acts Home care loss runs PIO-NO1'\n",
    "#  Read text file \n",
    "txt_file = PATH_txt + pdf_file + '.txt'\n",
    "#image file\n",
    "image_file = PATH_image + pdf_file + '.jpg'\n",
    "\n",
    "# Read as dict format txt file\n",
    "txt_dict = lossrun.read_dict(txt_file)\n",
    "\n",
    "template_rules = ConfigObj('config_file.ino')\n",
    "\n",
    "j = lossrun.search_rules(txt_dict,template_rules)\n",
    "_image_c = cv2.imread(image_file)\n",
    "for i in range(len(j)):\n",
    "    cv2.circle(_image_c,(j[i][0],j[i][1]),10,(0,0,255),-1)\n",
    "plt.figure(figsize=(30,25))\n",
    "plt.imshow(_image_c)"
   ]
  },
  {
   "cell_type": "markdown",
   "metadata": {},
   "source": [
    "## VGM ##"
   ]
  },
  {
   "cell_type": "code",
   "execution_count": null,
   "metadata": {},
   "outputs": [],
   "source": [
    "pdf_file = 'Alternative Home Health Care of Broward  -   VGM19722077218-4   -lossrun VGM-YES0'\n",
    "#  Read text file \n",
    "txt_file = PATH_txt + pdf_file + '.txt'\n",
    "#image file\n",
    "image_file = PATH_image + pdf_file + '.jpg'\n",
    "\n",
    "# Read as dict format txt file\n",
    "txt_dict = lossrun.read_dict(txt_file)\n",
    "\n",
    "template_rules = ConfigObj('config_file.ino')\n",
    "\n",
    "j = lossrun.search_rules(txt_dict,template_rules)\n",
    "_image_c = cv2.imread(image_file)\n",
    "for i in range(len(j)):\n",
    "    cv2.circle(_image_c,(j[i][0],j[i][1]),10,(0,0,255),-1)\n",
    "plt.figure(figsize=(30,25))\n",
    "plt.imshow(_image_c)"
   ]
  },
  {
   "cell_type": "code",
   "execution_count": null,
   "metadata": {},
   "outputs": [],
   "source": [
    "pdf_file = 'CCCZ Enterprises    -    VGM19722063918-4 -lossrun VGM-NO0'\n",
    "#  Read text file \n",
    "txt_file = PATH_txt + pdf_file + '.txt'\n",
    "#image file\n",
    "image_file = PATH_image + pdf_file + '.jpg'\n",
    "\n",
    "# Read as dict format txt file\n",
    "txt_dict = lossrun.read_dict(txt_file)\n",
    "\n",
    "template_rules = ConfigObj('config_file.ino')\n",
    "\n",
    "j = lossrun.search_rules(txt_dict,template_rules)\n",
    "_image_c = cv2.imread(image_file)\n",
    "for i in range(len(j)):\n",
    "    cv2.circle(_image_c,(j[i][0],j[i][1]),10,(0,0,255),-1)\n",
    "plt.figure(figsize=(30,25))\n",
    "plt.imshow(_image_c)"
   ]
  },
  {
   "cell_type": "code",
   "execution_count": null,
   "metadata": {},
   "outputs": [],
   "source": [
    "pdf_file = 'Hamilton Park Dialysis OPCO   -   VGM16712077718-4         -lossrun VGM-NO0'\n",
    "#  Read text file \n",
    "txt_file = PATH_txt + pdf_file + '.txt'\n",
    "#image file\n",
    "image_file = PATH_image + pdf_file + '.jpg'\n",
    "\n",
    "# Read as dict format txt file\n",
    "txt_dict = lossrun.read_dict(txt_file)\n",
    "\n",
    "template_rules = ConfigObj('config_file.ino')\n",
    "\n",
    "j = lossrun.search_rules(txt_dict,template_rules)\n",
    "_image_c = cv2.imread(image_file)\n",
    "for i in range(len(j)):\n",
    "    cv2.circle(_image_c,(j[i][0],j[i][1]),10,(0,0,255),-1)\n",
    "plt.figure(figsize=(30,25))\n",
    "plt.imshow(_image_c)"
   ]
  }
 ],
 "metadata": {
  "language_info": {
   "codemirror_mode": {
    "name": "ipython",
    "version": 3
   },
   "file_extension": ".py",
   "mimetype": "text/x-python",
   "name": "python",
   "nbconvert_exporter": "python",
   "pygments_lexer": "ipython3",
   "version": "3.8.2-final"
  },
  "orig_nbformat": 2,
  "kernelspec": {
   "name": "python3",
   "display_name": "Python 3"
  }
 },
 "nbformat": 4,
 "nbformat_minor": 2
}