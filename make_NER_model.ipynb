{
 "metadata": {
  "language_info": {
   "codemirror_mode": {
    "name": "ipython",
    "version": 3
   },
   "file_extension": ".py",
   "mimetype": "text/x-python",
   "name": "python",
   "nbconvert_exporter": "python",
   "pygments_lexer": "ipython3",
   "version": "3.8.2-final"
  },
  "orig_nbformat": 2,
  "kernelspec": {
   "name": ".pdf_analizer_kernel",
   "display_name": ".pdf_analizer_kernel"
  }
 },
 "nbformat": 4,
 "nbformat_minor": 2,
 "cells": [
  {
   "cell_type": "code",
   "execution_count": 23,
   "metadata": {},
   "outputs": [],
   "source": [
    "import itertools # join list trhougth permutations\n",
    "import numpy as np  # just in case math is needed\n",
    "import random # shuffle index tool\n",
    "import csv # cvs file format managemnent\n",
    "import os\n",
    "import spacy"
   ]
  },
  {
   "source": [
    "# Loss Runs data base augmentation #"
   ],
   "cell_type": "markdown",
   "metadata": {}
  },
  {
   "source": [
    "## Dates data ##"
   ],
   "cell_type": "markdown",
   "metadata": {}
  },
  {
   "cell_type": "code",
   "execution_count": 2,
   "metadata": {},
   "outputs": [],
   "source": [
    "# Generate data files\n",
    " \n",
    "# create the days list\n",
    "days = [str(i) for i in range(1,32)]\n",
    " \n",
    "# create the monts list\n",
    "monts = [str(i) for i in range(1,13)]\n",
    " \n",
    "# crete the years list\n",
    "years = [str(1900 + i) for i in range(0,150)]\n",
    " \n",
    "# create the monts list in letters\n",
    "monts_letter = ['Jan','Feb','Mar','Apr', 'MAY','JUN', 'JUL', 'AUG','sep','oct','nov','dec']\n",
    " \n",
    "# join the monts width the days\n",
    "days_monts = [day + '/' + mont for day in days for mont in monts] + [mont + '/' + day for day in days for mont in monts]\n",
    " \n",
    "# joind days_monts to years\n",
    "data_date_diag = [day_mont + '/' + year for day_mont in days_monts for year in years]# + [year + '/' + day for day in days for mont in monts]\n",
    " \n",
    "# change the format diag for dash\n",
    "data_date_dash = []\n",
    " \n",
    "for i in range(len(data_date_diag)):\n",
    "  data_date_dash.append(data_date_diag[i].replace('/','-'))\n",
    " \n",
    "# create the days_monts whith letter\n",
    " \n",
    "days_monts_letter = [day + '/' + mont for day in days for mont in monts_letter] + [mont + '/' + day for day in days for mont in monts_letter]\n",
    " \n",
    "data_date_letter_diag = [day_mont + '/' + year for day_mont in days_monts_letter for year in years]\n",
    " \n",
    "data_date_letter_dash = []\n",
    " \n",
    "for i in range(len(data_date_diag)):\n",
    "  data_date_letter_dash.append(data_date_letter_diag[i].replace('/','-'))\n",
    " \n",
    "# join all formats\n",
    " \n",
    "data_date = data_date_diag + data_date_dash + data_date_letter_diag + data_date_letter_dash\n",
    "\n",
    "random.shuffle(data_date)\n",
    "# take formar dd/mm/yy\n",
    "for i in range(np.int(len(data_date)/2)):\n",
    "  data_date[i] = data_date[i][:-2]\n",
    "\n",
    "random.shuffle(data_date)"
   ]
  },
  {
   "source": [
    "## Data grouping ##"
   ],
   "cell_type": "markdown",
   "metadata": {}
  },
  {
   "cell_type": "code",
   "execution_count": 18,
   "metadata": {},
   "outputs": [],
   "source": [
    "DATA_PATH = './data/data_base/'\n",
    " \n",
    "_lists2list = lambda List: [item for sublist in List for item in sublist]\n",
    " \n",
    " \n",
    "# \n",
    "#     DATA DISTRIBUTUION AS.\n",
    "#      _______________    ___________________     ___________________________\n",
    "#     |READ CVS FILES| => |TRANSFORM TO LIST|  => |PRE PROC LIST, CLEAN DATA|\n",
    "#   \n",
    "#      __________________________    __________\n",
    "#     |MERGE NAMES AND LAS NAMES| => |SAVE DATA|\n",
    " \n",
    "# read companies list \n",
    "with open(DATA_PATH + 'loss_runs_companies.csv', newline= '' ) as f:\n",
    "  reader = csv.reader(f)\n",
    "  data_companies = list(reader)\n",
    " \n",
    "# read last names list\n",
    "with open(DATA_PATH + 'loss_runs_last_name.csv', newline= '' ) as f:\n",
    "  reader = csv.reader(f)\n",
    "  data_lastnames = list(reader)\n",
    " \n",
    "# read last names\n",
    "with open(DATA_PATH + 'loss_runs_names.csv', newline= '' ) as f:\n",
    "  reader = csv.reader(f)\n",
    "  data_names = list(reader)\n",
    " \n",
    "# list of list to list\n",
    " \n",
    "# compnanies\n",
    "data_companies_list = _lists2list(data_companies)\n",
    "# last names\n",
    "data_lastnames_list = _lists2list(data_lastnames)\n",
    "# names\n",
    "data_names_list = _lists2list(data_names)\n",
    " \n",
    " \n",
    "# join names and last names lists\n",
    " \n",
    "data_names = [name + ' ' + last for name in data_names_list for last in data_lastnames_list]\n",
    "random.shuffle(data_names)"
   ]
  },
  {
   "cell_type": "code",
   "execution_count": 19,
   "metadata": {},
   "outputs": [],
   "source": [
    "# clean companies names\n",
    "import string \n",
    "\n",
    "printable= set(string.printable)\n",
    "\n",
    "#sent = data_companies_list[696]\n",
    "\n",
    "for i in range(len(data_companies_list)):\n",
    "   data_companies_list[i] = ''.join(filter(lambda x: x in printable, data_companies_list[i]))\n",
    "\n",
    "data_companies = data_companies_list"
   ]
  },
  {
   "cell_type": "code",
   "execution_count": 21,
   "metadata": {},
   "outputs": [],
   "source": [
    "# random insert abbreviation last names (i.e., Alexander P.)\n",
    "\n",
    "random.shuffle(data_date)\n",
    "\n",
    "TRAIN_DATA = []\n",
    "\n",
    "for i in range(500):\n",
    "  #print(data_date[i])\n",
    "  TRAIN_DATA.append((data_date[i], {\"entities\":[(0,len(data_date[i]),'DATE')]}))\n",
    "\n",
    "for i in range(len(data_companies)):\n",
    "  #print(data_date[i])\n",
    "  TRAIN_DATA.append((data_companies[i], {\"entities\":[(0,len(data_companies[i]),'INSURER')]}))\n",
    "\n",
    "for i in range(250):\n",
    "  #print(data_date[i])\n",
    "  TRAIN_DATA.append((data_names[i], {\"entities\":[(0,len(data_names[i]),'NAME')]}))\n",
    "\n",
    "random.shuffle(TRAIN_DATA)\n",
    "\n",
    "#TRAIN_DATA"
   ]
  },
  {
   "source": [
    "# NER entity model re-trainign #"
   ],
   "cell_type": "markdown",
   "metadata": {}
  },
  {
   "cell_type": "code",
   "execution_count": 25,
   "metadata": {
    "tags": [
     "outputPrepend"
    ]
   },
   "outputs": [
    {
     "output_type": "stream",
     "name": "stdout",
     "text": "05330486893}\nLosses {'ner': 3282.6585090953104}\nLosses {'ner': 3287.6426441121093}\nLosses {'ner': 3303.098527853488}\nLosses {'ner': 3314.089562778472}\nLosses {'ner': 3323.4676895189277}\nLosses {'ner': 3335.2326902198784}\nLosses {'ner': 3348.49895507574}\nLosses {'ner': 3355.941215937137}\nLosses {'ner': 3369.150020544528}\nLosses {'ner': 3378.7117205905906}\nLosses {'ner': 3391.4121342349044}\nLosses {'ner': 3403.7729817676536}\nLosses {'ner': 3415.503650610446}\nLosses {'ner': 3425.0020047175876}\nLosses {'ner': 3429.997302209138}\nLosses {'ner': 3437.061444823741}\nLosses {'ner': 3453.5576794791214}\nLosses {'ner': 3457.712238674163}\nLosses {'ner': 3463.162277569174}\nLosses {'ner': 3477.516172398924}\nLosses {'ner': 3486.626677979826}\nLosses {'ner': 3495.1926582801334}\nLosses {'ner': 3510.9764345633976}\nLosses {'ner': 3517.8804497468464}\nLosses {'ner': 3530.4385847795}\nLosses {'ner': 3538.283709679841}\nLosses {'ner': 3546.344259475469}\nLosses {'ner': 3555.286353324651}\nLosses {'ner': 3564.7921943414203}\nLosses {'ner': 3570.372988369427}\nLosses {'ner': 3581.9446765446282}\nLosses {'ner': 3594.3316107058145}\nLosses {'ner': 3608.0275988840676}\nLosses {'ner': 3617.7118488812066}\nLosses {'ner': 3628.1670284831143}\nLosses {'ner': 3635.5146323108293}\nLosses {'ner': 3647.9512255453683}\nLosses {'ner': 3659.540265586338}\nLosses {'ner': 3673.992245283089}\nLosses {'ner': 3685.551238676644}\nLosses {'ner': 3696.1976464596755}\nLosses {'ner': 3709.8383624200887}\nLosses {'ner': 3723.48204275418}\nLosses {'ner': 3729.679902378115}\nLosses {'ner': 3739.6416550014346}\nLosses {'ner': 3744.8254876636147}\nLosses {'ner': 3756.9565805994152}\nLosses {'ner': 3769.3234603922992}\nLosses {'ner': 3776.588317550364}\nLosses {'ner': 3783.716489672306}\nLosses {'ner': 3792.3702843185692}\nLosses {'ner': 3802.0852253638386}\nLosses {'ner': 3808.994071742165}\nLosses {'ner': 3818.209882994759}\nLosses {'ner': 3827.974711214769}\nLosses {'ner': 3840.289151882398}\nLosses {'ner': 3846.9671542436063}\nLosses {'ner': 3864.1007675916135}\nLosses {'ner': 3880.0169271618306}\nLosses {'ner': 3895.0666951328694}\nLosses {'ner': 3906.2668179661214}\nLosses {'ner': 3922.2356219679295}\nLosses {'ner': 3938.8408456236302}\nLosses {'ner': 3950.771133342403}\nLosses {'ner': 3960.2014634400784}\nLosses {'ner': 3975.9642267018735}\nLosses {'ner': 3987.5269074529588}\nLosses {'ner': 3996.895180800575}\nLosses {'ner': 4005.8872493744075}\nLosses {'ner': 4018.6513391971766}\nLosses {'ner': 4024.3659567177474}\nLosses {'ner': 4038.3775692522704}\nLosses {'ner': 4055.3675532877623}\nLosses {'ner': 4062.4961064994513}\nLosses {'ner': 4070.349064582604}\nLosses {'ner': 4079.6267149090945}\nLosses {'ner': 4082.0883376836955}\nLosses {'ner': 4092.942344458419}\nLosses {'ner': 4108.645822794753}\nLosses {'ner': 4122.794660957175}\nLosses {'ner': 4137.778239639121}\nLosses {'ner': 4146.2361034467995}\nLosses {'ner': 4155.517622308451}\nLosses {'ner': 4173.975251750666}\nLosses {'ner': 4184.7270124718725}\nLosses {'ner': 4194.976285533625}\nLosses {'ner': 4208.194916801172}\nLosses {'ner': 4219.318413929659}\nLosses {'ner': 4230.455334977823}\nLosses {'ner': 4241.940570311266}\nLosses {'ner': 4255.038932041842}\nLosses {'ner': 4260.981391946876}\nLosses {'ner': 4270.335806052291}\nLosses {'ner': 4277.508416857894}\nLosses {'ner': 4292.253847327407}\nLosses {'ner': 4309.453916039642}\nLosses {'ner': 4313.507020530149}\nLosses {'ner': 4325.580645785525}\nLosses {'ner': 4333.216072187617}\nLosses {'ner': 9.411516845226288}\nLosses {'ner': 12.338980615139008}\nLosses {'ner': 20.21056380867958}\nLosses {'ner': 25.952899277210236}\nLosses {'ner': 35.066859662532806}\nLosses {'ner': 48.01873415708542}\nLosses {'ner': 56.68306314945221}\nLosses {'ner': 65.72005000710487}\nLosses {'ner': 72.04044152912684}\nLosses {'ner': 81.03674681601115}\nLosses {'ner': 87.63934032735415}\nLosses {'ner': 93.69510345277376}\nLosses {'ner': 103.06012831744738}\nLosses {'ner': 109.19175194320269}\nLosses {'ner': 118.42240403709002}\nLosses {'ner': 134.61896573123522}\nLosses {'ner': 139.2331192952115}\nLosses {'ner': 142.98299621162005}\nLosses {'ner': 148.89531137165613}\nLosses {'ner': 156.3872163456399}\nLosses {'ner': 166.93609978375025}\nLosses {'ner': 174.73516897973605}\nLosses {'ner': 179.47127917525358}\nLosses {'ner': 193.26351788756438}\nLosses {'ner': 198.10217547533102}\nLosses {'ner': 209.58948415634222}\nLosses {'ner': 219.09283822891302}\nLosses {'ner': 229.27345800516196}\nLosses {'ner': 238.56089151022024}\nLosses {'ner': 246.05166000244208}\nLosses {'ner': 251.6453787854407}\nLosses {'ner': 259.1137053540442}\nLosses {'ner': 268.88456399948336}\nLosses {'ner': 273.4045174114872}\nLosses {'ner': 281.22335755755194}\nLosses {'ner': 292.1013476245571}\nLosses {'ner': 304.86666303803213}\nLosses {'ner': 317.22408667136915}\nLosses {'ner': 328.32073268224485}\nLosses {'ner': 332.21117049385794}\nLosses {'ner': 342.68915671040304}\nLosses {'ner': 343.66787999798544}\nLosses {'ner': 351.5465483732987}\nLosses {'ner': 360.85357201774605}\nLosses {'ner': 365.76031267200597}\nLosses {'ner': 374.47124641691335}\nLosses {'ner': 386.09206968103535}\nLosses {'ner': 394.69814174924977}\nLosses {'ner': 398.4002475098241}\nLosses {'ner': 400.9980505660642}\nLosses {'ner': 403.98341965232976}\nLosses {'ner': 412.4283246055711}\nLosses {'ner': 427.1677156940568}\nLosses {'ner': 431.2501193237349}\nLosses {'ner': 439.78792374849763}\nLosses {'ner': 446.20108839393106}\nLosses {'ner': 455.8220860612437}\nLosses {'ner': 462.5533278834864}\nLosses {'ner': 470.39134713530984}\nLosses {'ner': 472.4116055619761}\nLosses {'ner': 476.01022246003595}\nLosses {'ner': 481.6333339762732}\nLosses {'ner': 489.9155698370978}\nLosses {'ner': 493.20777181804624}\nLosses {'ner': 498.36542641654705}\nLosses {'ner': 503.34464346900677}\nLosses {'ner': 514.8347985866221}\nLosses {'ner': 524.3223124864253}\nLosses {'ner': 533.1819855096492}\nLosses {'ner': 538.4400221231135}\nLosses {'ner': 549.775415551916}\nLosses {'ner': 560.3406170728358}\nLosses {'ner': 565.7698329194191}\nLosses {'ner': 571.0789942546489}\nLosses {'ner': 580.8570880296411}\nLosses {'ner': 589.6841102841081}\nLosses {'ner': 601.6246335509004}\nLosses {'ner': 608.2133139374437}\nLosses {'ner': 621.3979493382158}\nLosses {'ner': 626.4247786219003}\nLosses {'ner': 636.552980523813}\nLosses {'ner': 643.6626353378178}\nLosses {'ner': 645.9111119995766}\nLosses {'ner': 651.6082615594321}\nLosses {'ner': 667.7593523005896}\nLosses {'ner': 677.9845422248297}\nLosses {'ner': 680.5811090820807}\nLosses {'ner': 688.3138439261693}\nLosses {'ner': 693.142669686802}\nLosses {'ner': 697.3712885470468}\nLosses {'ner': 706.1307907428}\nLosses {'ner': 709.285102178319}\nLosses {'ner': 714.7741704480486}\nLosses {'ner': 721.3248905436831}\nLosses {'ner': 731.9040567772226}\nLosses {'ner': 739.8420428826703}\nLosses {'ner': 746.4587452008618}\nLosses {'ner': 756.2681083872212}\nLosses {'ner': 761.844061155547}\nLosses {'ner': 769.8876853778256}\nLosses {'ner': 778.4334760501279}\nLosses {'ner': 789.0500791861905}\nLosses {'ner': 793.2088528482955}\nLosses {'ner': 801.3445692865889}\nLosses {'ner': 806.9174298255484}\nLosses {'ner': 815.4324867932837}\nLosses {'ner': 827.3314527480643}\nLosses {'ner': 831.2687068193}\nLosses {'ner': 839.4596269338172}\nLosses {'ner': 843.7570392603787}\nLosses {'ner': 846.8247375090408}\nLosses {'ner': 854.3715273936081}\nLosses {'ner': 862.1099584275192}\nLosses {'ner': 866.0860064202255}\nLosses {'ner': 876.3958759778446}\nLosses {'ner': 883.4552352004952}\nLosses {'ner': 890.3102206760353}\nLosses {'ner': 898.5177350812859}\nLosses {'ner': 904.6975617581314}\nLosses {'ner': 912.433972852797}\nLosses {'ner': 919.4704619818634}\nLosses {'ner': 931.5278507643646}\nLosses {'ner': 934.5629113563604}\nLosses {'ner': 942.9846472391195}\nLosses {'ner': 951.1332115778035}\nLosses {'ner': 958.2403890476829}\nLosses {'ner': 969.6679527149803}\nLosses {'ner': 975.7010754929191}\nLosses {'ner': 983.5347327911562}\nLosses {'ner': 990.1215006248361}\nLosses {'ner': 1000.9226344959146}\nLosses {'ner': 1008.4697139994508}\nLosses {'ner': 1019.4275531010038}\nLosses {'ner': 1025.204120414824}\nLosses {'ner': 1030.8655184083887}\nLosses {'ner': 1039.8563664728113}\nLosses {'ner': 1043.9077163511224}\nLosses {'ner': 1053.8205195241876}\nLosses {'ner': 1063.5403523021646}\nLosses {'ner': 1074.4386402541109}\nLosses {'ner': 1085.2872874313302}\nLosses {'ner': 1088.9382737451501}\nLosses {'ner': 1098.032810049624}\nLosses {'ner': 1104.2869429909892}\nLosses {'ner': 1111.6165335742094}\nLosses {'ner': 1120.6415554252721}\nLosses {'ner': 1122.525199246154}\nLosses {'ner': 1130.6350002041704}\nLosses {'ner': 1146.1301833144075}\nLosses {'ner': 1152.7957737198717}\nLosses {'ner': 1159.8343233917526}\nLosses {'ner': 1167.5902280662826}\nLosses {'ner': 1174.4580253068975}\nLosses {'ner': 1182.0575502817205}\nLosses {'ner': 1185.5199366880104}\nLosses {'ner': 1194.668347723548}\nLosses {'ner': 1209.1525560689613}\nLosses {'ner': 1216.4588571859047}\nLosses {'ner': 1218.8545220575313}\nLosses {'ner': 1222.0424220345}\nLosses {'ner': 1226.1218113086204}\nLosses {'ner': 1238.7606059691886}\nLosses {'ner': 1246.120148875473}\nLosses {'ner': 1258.9078885695915}\nLosses {'ner': 1264.8225781775097}\nLosses {'ner': 1278.4921724057774}\nLosses {'ner': 1284.3847383330128}\nLosses {'ner': 1291.2584849963448}\nLosses {'ner': 1302.5135147938988}\nLosses {'ner': 1312.0457370648644}\nLosses {'ner': 1319.1166598568223}\nLosses {'ner': 1325.2525030145905}\nLosses {'ner': 1331.760003663089}\nLosses {'ner': 1338.0053944359086}\nLosses {'ner': 1339.9585025081894}\nLosses {'ner': 1346.0131716499588}\nLosses {'ner': 1362.9165642032883}\nLosses {'ner': 1370.4661089549325}\nLosses {'ner': 1377.309710643675}\nLosses {'ner': 1382.332791447129}\nLosses {'ner': 1388.1357212061546}\nLosses {'ner': 1399.2778689260147}\nLosses {'ner': 1405.427341300833}\nLosses {'ner': 1411.596048366086}\nLosses {'ner': 1420.5290796270533}\nLosses {'ner': 1425.46598787214}\nLosses {'ner': 1432.7830233087702}\nLosses {'ner': 1445.2073394766016}\nLosses {'ner': 1453.8975773392417}\nLosses {'ner': 1469.714379364083}\nLosses {'ner': 1475.2283497987487}\nLosses {'ner': 1482.4747014580466}\nLosses {'ner': 1491.1283666430213}\nLosses {'ner': 1495.659212642739}\nLosses {'ner': 1509.0133987007835}\nLosses {'ner': 1513.31683420522}\nLosses {'ner': 1519.861517304013}\nLosses {'ner': 1531.1487930951812}\nLosses {'ner': 1544.1640518842437}\nLosses {'ner': 1552.7311124144294}\nLosses {'ner': 1558.747811549733}\nLosses {'ner': 1566.5567132173278}\nLosses {'ner': 1577.6906465230682}\nLosses {'ner': 1582.948516973684}\nLosses {'ner': 1592.409991571138}\nLosses {'ner': 1601.982372829149}\nLosses {'ner': 1608.38621647043}\nLosses {'ner': 1613.103739568422}\nLosses {'ner': 1621.529875704477}\nLosses {'ner': 1629.159575664828}\nLosses {'ner': 1635.12934383137}\nLosses {'ner': 1640.1422132920675}\nLosses {'ner': 1651.9958930682592}\nLosses {'ner': 1663.1447708081655}\nLosses {'ner': 1667.1022261703588}\nLosses {'ner': 1678.8506566608526}\nLosses {'ner': 1680.0211442845148}\nLosses {'ner': 1685.9266372433094}\nLosses {'ner': 1691.994837295094}\nLosses {'ner': 1700.1063853612332}\nLosses {'ner': 1707.099516045132}\nLosses {'ner': 1712.3764557948498}\nLosses {'ner': 1719.3423786869434}\nLosses {'ner': 1730.8125096669582}\nLosses {'ner': 1734.2518496853927}\nLosses {'ner': 1740.3977368814567}\nLosses {'ner': 1747.9672888261894}\nLosses {'ner': 1765.4636355383018}\nLosses {'ner': 1773.2485058052162}\nLosses {'ner': 1787.2426138264755}\nLosses {'ner': 1798.5955727440933}\nLosses {'ner': 1811.9191238028625}\nLosses {'ner': 1816.8444251162628}\nLosses {'ner': 1824.4153426034072}\nLosses {'ner': 1832.1950028879264}\nLosses {'ner': 1846.8852675897697}\nLosses {'ner': 1856.0793775660613}\nLosses {'ner': 1863.2120262128929}\nLosses {'ner': 1869.8179884893516}\nLosses {'ner': 1881.3819261533836}\nLosses {'ner': 1891.6196317417243}\nLosses {'ner': 1900.130666111193}\nLosses {'ner': 1914.7067347509483}\nLosses {'ner': 1925.2789202673057}\nLosses {'ner': 1933.9531340343574}\nLosses {'ner': 1946.728552256308}\nLosses {'ner': 1958.6248289687255}\nLosses {'ner': 1964.7981343609908}\nLosses {'ner': 1977.7512821299651}\nLosses {'ner': 1984.3152071578124}\nLosses {'ner': 1995.7247470957855}\nLosses {'ner': 2005.0499543292144}\nLosses {'ner': 2016.1800819156388}\nLosses {'ner': 2026.931342196248}\nLosses {'ner': 2044.6111019370774}\nLosses {'ner': 2052.4635696528176}\nLosses {'ner': 2060.0286323545197}\nLosses {'ner': 2071.356250238202}\nLosses {'ner': 2081.713713061593}\nLosses {'ner': 2094.141343724511}\nLosses {'ner': 2102.7183753667096}\nLosses {'ner': 2115.3553840337017}\nLosses {'ner': 2120.4893265185574}\nLosses {'ner': 2130.719879907153}\nLosses {'ner': 2137.12506091275}\nLosses {'ner': 2145.094479438446}\nLosses {'ner': 2157.3600054947356}\nLosses {'ner': 2166.811261799715}\nLosses {'ner': 2176.141240586124}\nLosses {'ner': 2185.1734556449273}\nLosses {'ner': 2195.2374982801894}\nLosses {'ner': 2202.796123873971}\nLosses {'ner': 2217.601293217919}\nLosses {'ner': 2223.877773177407}\nLosses {'ner': 2236.7600246784905}\nLosses {'ner': 2251.206059586785}\nLosses {'ner': 2258.051786374829}\nLosses {'ner': 2264.4539577481964}\nLosses {'ner': 2271.230607223294}\nLosses {'ner': 2278.384874713204}\nLosses {'ner': 2292.8660113928536}\nLosses {'ner': 2304.189388942502}\nLosses {'ner': 2312.1678427574852}\nLosses {'ner': 2323.8173495648125}\nLosses {'ner': 2340.894449424527}\nLosses {'ner': 2348.3550286410073}\nLosses {'ner': 2354.769069541774}\nLosses {'ner': 2368.0560521972993}\nLosses {'ner': 2383.2436605585435}\nLosses {'ner': 2390.570076950423}\nLosses {'ner': 2400.954372533194}\nLosses {'ner': 2409.5312455972353}\nLosses {'ner': 2420.7697118600527}\nLosses {'ner': 2431.568646409146}\nLosses {'ner': 2443.288737036816}\nLosses {'ner': 2454.760195293061}\nLosses {'ner': 2463.4905901333013}\nLosses {'ner': 2477.0405744692007}\nLosses {'ner': 2484.12024245464}\nLosses {'ner': 2491.497051455609}\nLosses {'ner': 2498.904123426012}\nLosses {'ner': 2505.1962466245213}\nLosses {'ner': 2511.673361972503}\nLosses {'ner': 2525.3561129128257}\nLosses {'ner': 2534.4559102212706}\nLosses {'ner': 2548.7917785798827}\nLosses {'ner': 2558.086863533191}\nLosses {'ner': 2567.381361499957}\nLosses {'ner': 2584.1741425549308}\nLosses {'ner': 2592.552527264289}\nLosses {'ner': 2607.455947712592}\nLosses {'ner': 2616.0394876753608}\nLosses {'ner': 2624.6113298689643}\nLosses {'ner': 2631.865631153637}\nLosses {'ner': 2636.744120256805}\nLosses {'ner': 2653.1852615045545}\nLosses {'ner': 2669.425973670387}\nLosses {'ner': 2676.770509259605}\nLosses {'ner': 2683.4645862745283}\nLosses {'ner': 2690.2892460988996}\nLosses {'ner': 2700.005501853132}\nLosses {'ner': 2704.8120430575846}\nLosses {'ner': 2709.232654975557}\nLosses {'ner': 2719.9253586994646}\nLosses {'ner': 2733.0922404991625}\nLosses {'ner': 2742.34280638566}\nLosses {'ner': 2751.464739965105}\nLosses {'ner': 2765.705022977495}\nLosses {'ner': 2771.9922106133936}\nLosses {'ner': 2778.182549299502}\nLosses {'ner': 2788.960688592696}\nLosses {'ner': 2801.945878865027}\nLosses {'ner': 2813.7707680480717}\nLosses {'ner': 2823.4093735234974}\nLosses {'ner': 2830.1357319371937}\nLosses {'ner': 2834.080495359206}\nLosses {'ner': 2839.641673205483}\nLosses {'ner': 2846.6620045882346}\nLosses {'ner': 2859.399563072312}\nLosses {'ner': 2869.4407553016836}\nLosses {'ner': 2873.3844888763897}\nLosses {'ner': 2888.701189215707}\nLosses {'ner': 2896.930022652673}\nLosses {'ner': 2902.665178801345}\nLosses {'ner': 2914.4324056165688}\nLosses {'ner': 2923.434033568429}\nLosses {'ner': 2934.2331945257656}\nLosses {'ner': 2941.9471323447697}\nLosses {'ner': 2950.4938113646976}\nLosses {'ner': 2959.819437022733}\nLosses {'ner': 2969.40810796194}\nLosses {'ner': 2972.9358181016914}\nLosses {'ner': 2980.455374922084}\nLosses {'ner': 2988.3956206994526}\nLosses {'ner': 3002.3428761320583}\nLosses {'ner': 3009.784858103322}\nLosses {'ner': 3021.3233644919865}\nLosses {'ner': 3028.6754373865597}\nLosses {'ner': 3043.510761912393}\nLosses {'ner': 3061.29165833764}\nLosses {'ner': 3068.634386117982}\nLosses {'ner': 3075.6124334590904}\nLosses {'ner': 3083.8831789451115}\nLosses {'ner': 3093.2286810832493}\nLosses {'ner': 3104.0059434133045}\nLosses {'ner': 3114.8217183905117}\nLosses {'ner': 3120.7104847556375}\nLosses {'ner': 3127.7867783843003}\nLosses {'ner': 3142.593116694542}\nLosses {'ner': 3150.845770531746}\nLosses {'ner': 3158.824162387701}\nLosses {'ner': 3174.747522377821}\nLosses {'ner': 3184.940096282812}\nLosses {'ner': 3194.104281985613}\nLosses {'ner': 3205.745449626299}\nLosses {'ner': 3216.740568959566}\nLosses {'ner': 3224.0960690616093}\nLosses {'ner': 3233.1158519624196}\nLosses {'ner': 3240.455056989046}\nLosses {'ner': 3246.5568502782307}\nLosses {'ner': 3255.1552495597325}\nLosses {'ner': 3265.734812462183}\nLosses {'ner': 3280.7428565858327}\nLosses {'ner': 3290.9264622567616}\nLosses {'ner': 3299.8018240569554}\nLosses {'ner': 3309.9792455075703}\nLosses {'ner': 3319.751241350027}\nLosses {'ner': 3330.124279880377}\nLosses {'ner': 3334.1413061855756}\nLosses {'ner': 3341.9420075653516}\nLosses {'ner': 3351.0983815430127}\nLosses {'ner': 3363.975284510704}\nLosses {'ner': 3379.7309513627015}\nLosses {'ner': 3384.9982442198716}\nLosses {'ner': 3393.816914045664}\nLosses {'ner': 3400.2405275902174}\nLosses {'ner': 3404.7215394800924}\nLosses {'ner': 3421.6581424301885}\nLosses {'ner': 3432.1370545452855}\nLosses {'ner': 3440.617431785392}\nLosses {'ner': 3453.2723410385124}\nLosses {'ner': 3459.0996800916664}\nLosses {'ner': 3470.5749438064568}\nLosses {'ner': 3486.0640377061836}\nLosses {'ner': 3495.6257616537087}\nLosses {'ner': 3506.667276050376}\nLosses {'ner': 3519.7327808397285}\nLosses {'ner': 3531.5372720616333}\nLosses {'ner': 3540.8438164847366}\nLosses {'ner': 3551.4135173357836}\nLosses {'ner': 3559.119892457854}\nLosses {'ner': 3569.5021973050943}\nLosses {'ner': 3580.9205297626368}\nLosses {'ner': 3589.5599616713635}\nLosses {'ner': 3598.179173702728}\nLosses {'ner': 3614.5425577111355}\nLosses {'ner': 3627.3092099375835}\nLosses {'ner': 3649.6383300967327}\nLosses {'ner': 3662.336772555839}\nLosses {'ner': 3670.56158241665}\nLosses {'ner': 3685.6723820272646}\nLosses {'ner': 3700.2231909338198}\nLosses {'ner': 3707.9474100176058}\nLosses {'ner': 3716.752161771413}\nLosses {'ner': 3729.009766370412}\nLosses {'ner': 3746.0163053575716}\nLosses {'ner': 3758.3079168353042}\nLosses {'ner': 3769.6169931445083}\nLosses {'ner': 3775.7539015266857}\nLosses {'ner': 3794.0486836883983}\nLosses {'ner': 3805.889529034849}\nLosses {'ner': 3814.9139167818985}\nLosses {'ner': 3829.5374767336807}\nLosses {'ner': 3836.9790419243554}\nLosses {'ner': 3848.8016357325296}\nLosses {'ner': 3861.1867786251287}\nLosses {'ner': 3873.555415471671}\nLosses {'ner': 3880.8039604626874}\nLosses {'ner': 3889.8149574209283}\nLosses {'ner': 3900.747686247928}\nLosses {'ner': 3913.7637466002534}\nLosses {'ner': 3920.562671210272}\nLosses {'ner': 3926.048545624716}\nLosses {'ner': 3938.6671703715156}\nLosses {'ner': 3949.2017237801383}\nLosses {'ner': 3957.466708507044}\nLosses {'ner': 3967.097427274687}\nLosses {'ner': 3980.708986129267}\nLosses {'ner': 3988.313684012396}\nLosses {'ner': 4004.7339655418227}\nLosses {'ner': 4014.704112287266}\nLosses {'ner': 4020.683518442912}\nLosses {'ner': 4030.2678531144093}\nLosses {'ner': 4042.8409390185307}\nLosses {'ner': 4054.512757394118}\nLosses {'ner': 4064.9543728564213}\nLosses {'ner': 4075.901899430556}\nLosses {'ner': 4086.781353208823}\nLosses {'ner': 4096.112680855794}\nLosses {'ner': 4108.936610165639}\nLosses {'ner': 4129.788945022626}\nLosses {'ner': 4143.013396415515}\nLosses {'ner': 4151.453880000515}\nLosses {'ner': 4165.1883584145735}\nLosses {'ner': 4174.838466751976}\nLosses {'ner': 4184.758713017804}\nLosses {'ner': 4201.461696516378}\nLosses {'ner': 4215.815181027753}\nLosses {'ner': 4228.628960262639}\nLosses {'ner': 4240.757204036815}\nLosses {'ner': 4251.279042628249}\nLosses {'ner': 4260.709260073146}\nLosses {'ner': 4273.816948142489}\nLosses {'ner': 4286.917372372588}\nLosses {'ner': 4294.165463712653}\nLosses {'ner': 4300.1581007555405}\nLosses {'ner': 4317.814757020799}\nLosses {'ner': 4327.773104043333}\nLosses {'ner': 4346.215175004331}\nLosses {'ner': 4362.767235370008}\nLosses {'ner': 4372.285710246889}\n"
    }
   ],
   "source": [
    "import random\n",
    "import spacy\n",
    "from spacy.util import minibatch, compounding\n",
    "from pathlib import Path\n",
    "\n",
    "\n",
    "nlp=spacy.load('en_core_web_sm')\n",
    "\n",
    "# Getting the pipeline component\n",
    "ner=nlp.get_pipe(\"ner\")\n",
    "\n",
    "for _, annotations in TRAIN_DATA:\n",
    "  for ent in annotations.get(\"entities\"):\n",
    "    ner.add_label(ent[2])\n",
    "\n",
    "# disable pipe lines\n",
    "# Disable pipeline components you dont need to change\n",
    "pipe_exceptions = [\"ner\", \"trf_wordpiecer\", \"trf_tok2vec\"]\n",
    "unaffected_pipes = [pipe for pipe in nlp.pipe_names if pipe not in pipe_exceptions]\n",
    "\n",
    "\n",
    "# TRAINING THE MODEL\n",
    "with nlp.disable_pipes(*unaffected_pipes):\n",
    "\n",
    "  # Training for 30 iterations\n",
    "  for iteration in range(50):\n",
    "\n",
    "    # shuufling examples  before every iteration\n",
    "    random.shuffle(TRAIN_DATA)\n",
    "    losses = {}\n",
    "    # batch up the examples using spaCy's minibatch\n",
    "    batches = minibatch(TRAIN_DATA, size=compounding(4.0, 32.0, 1.001))\n",
    "    for batch in batches:\n",
    "        texts, annotations = zip(*batch)\n",
    "        nlp.update(\n",
    "                    texts,  # batch of texts\n",
    "                    annotations,  # batch of annotations\n",
    "                    drop=0.5,  # dropout - make it harder to memorise data\n",
    "                    losses=losses,\n",
    "                )\n",
    "        print(\"Losses\", losses)"
   ]
  },
  {
   "source": [
    "## Save the re-trained model ##"
   ],
   "cell_type": "markdown",
   "metadata": {}
  },
  {
   "cell_type": "code",
   "execution_count": null,
   "metadata": {},
   "outputs": [],
   "source": []
  }
 ]
}