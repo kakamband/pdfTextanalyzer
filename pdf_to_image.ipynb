{
 "metadata": {
  "language_info": {
   "codemirror_mode": {
    "name": "ipython",
    "version": 3
   },
   "file_extension": ".py",
   "mimetype": "text/x-python",
   "name": "python",
   "nbconvert_exporter": "python",
   "pygments_lexer": "ipython3",
   "version": "3.8.2-final"
  },
  "orig_nbformat": 2,
  "kernelspec": {
   "name": ".pdf_analizer_kernel",
   "display_name": ".pdf_analizer_kernel"
  }
 },
 "nbformat": 4,
 "nbformat_minor": 2,
 "cells": [
  {
   "cell_type": "code",
   "execution_count": 1,
   "metadata": {},
   "outputs": [],
   "source": [
    "def transform_to_images_an_entire_folder(pdfs_folder = './data/pdfs/', images_folder = './data/images/'):\n",
    "\n",
    "    try:\n",
    "        list_files = os.listdir(pdfs_folder)\n",
    "    except:\n",
    "        print(\"Error in path\")\n",
    "        return pdfs_folder   \n",
    "\n",
    "    for i in range (len(list_files)):\n",
    "        \n",
    "        if list_files[i][-3:] == 'pdf':\n",
    "\n",
    "            image_proto = convert_from_path(pdfs_folder  + list_files[i])\n",
    "            [image.save( images_folder + list_files[i][:-4] + str(page) + '.jpg') for page, image in enumerate(image_proto)]            \n",
    "                \n",
    "    return 0"
   ]
  },
  {
   "cell_type": "code",
   "execution_count": 2,
   "metadata": {
    "tags": []
   },
   "outputs": [
    {
     "output_type": "stream",
     "name": "stdout",
     "text": "29.236630518\n"
    }
   ],
   "source": [
    "import os\n",
    "from pdf2image import convert_from_path\n",
    "import time \n",
    "\n",
    "t_start = time.clock_gettime_ns(0)\n",
    "\n",
    "transform_to_images_an_entire_folder()\n",
    "\n",
    "elapsed_time = (time.clock_gettime_ns(0) - t_start) / 10E8\n",
    "\n",
    "print(elapsed_time)"
   ]
  }
 ]
}