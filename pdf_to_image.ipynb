{
 "metadata": {
  "language_info": {
   "codemirror_mode": {
    "name": "ipython",
    "version": 3
   },
   "file_extension": ".py",
   "mimetype": "text/x-python",
   "name": "python",
   "nbconvert_exporter": "python",
   "pygments_lexer": "ipython3",
   "version": "3.8.2-final"
  },
  "orig_nbformat": 2,
  "kernelspec": {
   "name": ".pdf_analizer_kernel",
   "display_name": ".pdf_analizer_kernel"
  }
 },
 "nbformat": 4,
 "nbformat_minor": 2,
 "cells": [
  {
   "cell_type": "code",
   "execution_count": 70,
   "metadata": {},
   "outputs": [],
   "source": [
    "def transform_to_images_an_entire_folder(pdfs_folder = './data/pdfs/', images_folder = './data/images/'):\n",
    "\n",
    "    try:\n",
    "        list_files = os.listdir(read_path)\n",
    "    except:\n",
    "        print(\"Error in path\")\n",
    "        return pdfs_folder   \n",
    "\n",
    "    for i in range (len(list_files)):\n",
    "        if list_files[i][-3:] == 'pdf':\n",
    "            image_proto = convert_from_path(pdfs_folder  + list_files[i])\n",
    "            for page in image_proto:\n",
    "                page.save( images_folder + list_files[i][:-3] + 'jpg')\n",
    "    return 0"
   ]
  },
  {
   "cell_type": "code",
   "execution_count": 99,
   "metadata": {
    "tags": []
   },
   "outputs": [
    {
     "output_type": "stream",
     "name": "stdout",
     "text": "3.942781763\n"
    }
   ],
   "source": [
    "import os\n",
    "from pdf2image import convert_from_path\n",
    "import time \n",
    "\n",
    "#t_start = time.clock_gettime_ns(0)\n",
    "\n",
    "transform_to_images_an_entire_folder()\n",
    "\n",
    "#elapsed_time = (time.clock_gettime_ns(0) - t_start) / 10E8\n",
    "\n",
    "#print(elapsed_time)"
   ]
  },
  {
   "cell_type": "code",
   "execution_count": 84,
   "metadata": {},
   "outputs": [
    {
     "output_type": "execute_result",
     "data": {
      "text/plain": "1596136419662038680"
     },
     "metadata": {},
     "execution_count": 84
    }
   ],
   "source": []
  }
 ]
}