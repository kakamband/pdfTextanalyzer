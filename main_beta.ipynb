{
 "cells": [
  {
   "cell_type": "code",
   "execution_count": 1,
   "metadata": {},
   "outputs": [],
   "source": [
    "# load dependecies\n",
    "#import cv2 # image procesing and computer vision\n",
    "#import numpy as np # mathematical and algebra \n",
    "#import matplotlib.pyplot as plt # vizualization\n",
    "#import pytesseract as pt    # OCR image to data (text, and others)\n",
    "#from pytesseract import Output  # \n",
    "#import nltk     # natural language processing\n",
    "#from nltk.tag.stanford import StanfordNERTagger # named entity recognition dependecy\n",
    "#import os   # \n"
   ]
  },
  {
   "cell_type": "markdown",
   "metadata": {},
   "source": [
    "# Beta code # \n",
    "## Extracting  ##"
   ]
  },
  {
   "cell_type": "code",
   "execution_count": 2,
   "metadata": {},
   "outputs": [],
   "source": [
    "## load depedencies \n",
    "import numpy as np # math library\n",
    "import cv2 # visual computational \n",
    "import matplotlib.pyplot as plt # vizualization\n",
    "import os # directory management\n",
    "from configobj import ConfigObj # load rules\n",
    "import lossrun"
   ]
  },
  {
   "cell_type": "markdown",
   "metadata": {},
   "source": [
    "## Read files ##"
   ]
  },
  {
   "cell_type": "code",
   "execution_count": 4,
   "metadata": {},
   "outputs": [],
   "source": [
    "## Read raw txt info in pdf report\n",
    "\n",
    "PATH_txt = os.path.join('.','data','txt','')\n",
    "PATH_image = os.path.join('.','data','images','')\n",
    "\n",
    "# pdf raw file no ext \n",
    "# input file name\n",
    "\n",
    "\n",
    "#__________________________________________________\n",
    "pdf_file = '12 - 13 loss runs - Focus Nursing CHG770310301 11-1-12-13_YES0'\n",
    "#___________________________________________________\n",
    "\n",
    "\n",
    "#  Read text file \n",
    "txt_file = PATH_txt + pdf_file + '.txt'\n",
    "#image file\n",
    "image_file = PATH_image + pdf_file + '.jpg'\n",
    "\n",
    "# Read as dict format txt file\n",
    "txt_dict = lossrun.read_dict(txt_file)\n",
    "\n",
    "# load configuration file prototype\n",
    "template_rules = ConfigObj('config_file.ino')\n"
   ]
  },
  {
   "cell_type": "code",
   "execution_count": null,
   "metadata": {},
   "outputs": [],
   "source": []
  }
 ],
 "metadata": {
  "language_info": {
   "codemirror_mode": {
    "name": "ipython",
    "version": 3
   },
   "file_extension": ".py",
   "mimetype": "text/x-python",
   "name": "python",
   "nbconvert_exporter": "python",
   "pygments_lexer": "ipython3",
   "version": "3.8.2-final"
  },
  "orig_nbformat": 2,
  "kernelspec": {
   "name": "python38264bit5f562822230c4a2ba253563191a5dac7",
   "display_name": "Python 3.8.2 64-bit"
  }
 },
 "nbformat": 4,
 "nbformat_minor": 2
}